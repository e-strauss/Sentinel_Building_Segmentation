{
 "cells": [
  {
   "cell_type": "code",
   "execution_count": 12,
   "id": "initial_id",
   "metadata": {
    "collapsed": true,
    "ExecuteTime": {
     "end_time": "2024-07-01T20:57:48.959048Z",
     "start_time": "2024-07-01T20:57:48.607794Z"
    }
   },
   "outputs": [],
   "source": [
    "import openeo\n",
    "\n",
    "#connection = openeo.connect(\"https://earthengine.openeo.org\")\n",
    "\n",
    "\n",
    "connection = openeo.connect(\"https://openeo.dataspace.copernicus.eu/\")"
   ]
  },
  {
   "cell_type": "code",
   "outputs": [],
   "source": [
    "connection.authenticate_oidc()"
   ],
   "metadata": {
    "collapsed": false
   },
   "id": "6a306552e07ebf50"
  },
  {
   "cell_type": "code",
   "outputs": [],
   "source": [
    "datacube = connection.load_collection(\n",
    "  \"SENTINEL2_L2A\",\n",
    "  spatial_extent={\"west\": 12.02000046, \"south\":  50.97999954, \"east\": 12.91999912, \"north\": 51.59000015},\n",
    "  temporal_extent=[\"2024-02-01\", \"2024-03-01\"],\n",
    "  bands=[\"B04\"]\n",
    ")"
   ],
   "metadata": {
    "collapsed": false,
    "ExecuteTime": {
     "end_time": "2024-07-01T21:21:16.783121Z",
     "start_time": "2024-07-01T21:21:16.704908Z"
    }
   },
   "id": "c110a6137190c904",
   "execution_count": 20
  },
  {
   "cell_type": "code",
   "outputs": [],
   "source": [
    "reduced_datacube = datacube.reduce_dimension(dimension=\"t\", reducer=\"mean\")"
   ],
   "metadata": {
    "collapsed": false,
    "ExecuteTime": {
     "end_time": "2024-07-01T21:21:19.342188Z",
     "start_time": "2024-07-01T21:21:19.337344Z"
    }
   },
   "id": "cb9f51bfa5870078",
   "execution_count": 21
  },
  {
   "cell_type": "code",
   "outputs": [],
   "source": [
    "exported_path = \"data/reduced_b04.tiff\"\n",
    "result = reduced_datacube.save_result(format=\"GTiff\")"
   ],
   "metadata": {
    "collapsed": false,
    "ExecuteTime": {
     "end_time": "2024-07-01T21:21:20.044135Z",
     "start_time": "2024-07-01T21:21:20.039321Z"
    }
   },
   "id": "547d1bd21198aa5f",
   "execution_count": 22
  },
  {
   "cell_type": "code",
   "outputs": [
    {
     "name": "stdout",
     "output_type": "stream",
     "text": [
      "0:00:00 Job 'j-2407018af87842118f4fd82fee6aeaa1': send 'start'\n",
      "0:00:23 Job 'j-2407018af87842118f4fd82fee6aeaa1': created (progress 0%)\n",
      "0:00:31 Job 'j-2407018af87842118f4fd82fee6aeaa1': created (progress 0%)\n",
      "0:00:38 Job 'j-2407018af87842118f4fd82fee6aeaa1': created (progress 0%)\n",
      "0:00:46 Job 'j-2407018af87842118f4fd82fee6aeaa1': created (progress 0%)\n",
      "0:00:57 Job 'j-2407018af87842118f4fd82fee6aeaa1': running (progress N/A)\n",
      "0:01:09 Job 'j-2407018af87842118f4fd82fee6aeaa1': running (progress N/A)\n",
      "0:01:25 Job 'j-2407018af87842118f4fd82fee6aeaa1': running (progress N/A)\n",
      "0:01:44 Job 'j-2407018af87842118f4fd82fee6aeaa1': running (progress N/A)\n",
      "0:02:08 Job 'j-2407018af87842118f4fd82fee6aeaa1': running (progress N/A)\n",
      "0:02:38 Job 'j-2407018af87842118f4fd82fee6aeaa1': running (progress N/A)\n",
      "0:03:16 Job 'j-2407018af87842118f4fd82fee6aeaa1': running (progress N/A)\n",
      "0:04:03 Job 'j-2407018af87842118f4fd82fee6aeaa1': running (progress N/A)\n",
      "0:05:02 Job 'j-2407018af87842118f4fd82fee6aeaa1': running (progress N/A)\n",
      "0:06:04 Job 'j-2407018af87842118f4fd82fee6aeaa1': running (progress N/A)\n",
      "0:07:04 Job 'j-2407018af87842118f4fd82fee6aeaa1': finished (progress 100%)\n"
     ]
    },
    {
     "data": {
      "text/plain": "[PosixPath('data/reduced_b04.tiff/openEO.tif'),\n PosixPath('data/reduced_b04.tiff/job-results.json')]"
     },
     "execution_count": 23,
     "metadata": {},
     "output_type": "execute_result"
    }
   ],
   "source": [
    "job = result.create_job()\n",
    "job.start_and_wait()\n",
    "job.get_results().download_files(target=exported_path)"
   ],
   "metadata": {
    "collapsed": false,
    "ExecuteTime": {
     "end_time": "2024-07-01T21:28:48.168635Z",
     "start_time": "2024-07-01T21:21:20.663268Z"
    }
   },
   "id": "81f63f296480bfb4",
   "execution_count": 23
  },
  {
   "cell_type": "code",
   "outputs": [
    {
     "data": {
      "text/plain": "<Connection to 'https://openeo.dataspace.copernicus.eu/openeo/1.2/' with NullAuth>"
     },
     "execution_count": 9,
     "metadata": {},
     "output_type": "execute_result"
    }
   ],
   "source": [
    "connection"
   ],
   "metadata": {
    "collapsed": false,
    "ExecuteTime": {
     "end_time": "2024-07-01T20:25:24.902655Z",
     "start_time": "2024-07-01T20:25:24.898836Z"
    }
   },
   "id": "7551ce23f97474de",
   "execution_count": 9
  },
  {
   "cell_type": "code",
   "outputs": [],
   "source": [
    "connection.job('j-24070198be5f4ec286b75c7d9e78aa0e').logs()"
   ],
   "metadata": {
    "collapsed": false
   },
   "id": "5a3bbb190ad119cc"
  },
  {
   "cell_type": "code",
   "outputs": [
    {
     "ename": "RasterioIOError",
     "evalue": "'data/reduced_b04.tiff' not recognized as a supported file format.",
     "output_type": "error",
     "traceback": [
      "\u001B[0;31m---------------------------------------------------------------------------\u001B[0m",
      "\u001B[0;31mCPLE_OpenFailedError\u001B[0m                      Traceback (most recent call last)",
      "File \u001B[0;32mrasterio/_base.pyx:310\u001B[0m, in \u001B[0;36mrasterio._base.DatasetBase.__init__\u001B[0;34m()\u001B[0m\n",
      "File \u001B[0;32mrasterio/_base.pyx:221\u001B[0m, in \u001B[0;36mrasterio._base.open_dataset\u001B[0;34m()\u001B[0m\n",
      "File \u001B[0;32mrasterio/_err.pyx:359\u001B[0m, in \u001B[0;36mrasterio._err.exc_wrap_pointer\u001B[0;34m()\u001B[0m\n",
      "\u001B[0;31mCPLE_OpenFailedError\u001B[0m: 'data/reduced_b04.tiff' not recognized as a supported file format.",
      "\nDuring handling of the above exception, another exception occurred:\n",
      "\u001B[0;31mRasterioIOError\u001B[0m                           Traceback (most recent call last)",
      "Cell \u001B[0;32mIn[25], line 3\u001B[0m\n\u001B[1;32m      1\u001B[0m \u001B[38;5;28;01mimport\u001B[39;00m \u001B[38;5;21;01mrasterio\u001B[39;00m\n\u001B[1;32m      2\u001B[0m \u001B[38;5;28;01mfrom\u001B[39;00m \u001B[38;5;21;01mrasterio\u001B[39;00m\u001B[38;5;21;01m.\u001B[39;00m\u001B[38;5;21;01mplot\u001B[39;00m \u001B[38;5;28;01mimport\u001B[39;00m show\n\u001B[0;32m----> 3\u001B[0m tiff \u001B[38;5;241m=\u001B[39m \u001B[43mrasterio\u001B[49m\u001B[38;5;241;43m.\u001B[39;49m\u001B[43mopen\u001B[49m\u001B[43m(\u001B[49m\u001B[43mexported_path\u001B[49m\u001B[43m)\u001B[49m\n",
      "File \u001B[0;32m~/PycharmProjects/Sentinel_Building_Segmentation/.venv/lib/python3.9/site-packages/rasterio/env.py:463\u001B[0m, in \u001B[0;36mensure_env_with_credentials.<locals>.wrapper\u001B[0;34m(*args, **kwds)\u001B[0m\n\u001B[1;32m    460\u001B[0m     session \u001B[38;5;241m=\u001B[39m DummySession()\n\u001B[1;32m    462\u001B[0m \u001B[38;5;28;01mwith\u001B[39;00m env_ctor(session\u001B[38;5;241m=\u001B[39msession):\n\u001B[0;32m--> 463\u001B[0m     \u001B[38;5;28;01mreturn\u001B[39;00m \u001B[43mf\u001B[49m\u001B[43m(\u001B[49m\u001B[38;5;241;43m*\u001B[39;49m\u001B[43margs\u001B[49m\u001B[43m,\u001B[49m\u001B[43m \u001B[49m\u001B[38;5;241;43m*\u001B[39;49m\u001B[38;5;241;43m*\u001B[39;49m\u001B[43mkwds\u001B[49m\u001B[43m)\u001B[49m\n",
      "File \u001B[0;32m~/PycharmProjects/Sentinel_Building_Segmentation/.venv/lib/python3.9/site-packages/rasterio/__init__.py:361\u001B[0m, in \u001B[0;36mopen\u001B[0;34m(fp, mode, driver, width, height, count, crs, transform, dtype, nodata, sharing, opener, **kwargs)\u001B[0m\n\u001B[1;32m    358\u001B[0m     path \u001B[38;5;241m=\u001B[39m _parse_path(raw_dataset_path)\n\u001B[1;32m    360\u001B[0m \u001B[38;5;28;01mif\u001B[39;00m mode \u001B[38;5;241m==\u001B[39m \u001B[38;5;124m\"\u001B[39m\u001B[38;5;124mr\u001B[39m\u001B[38;5;124m\"\u001B[39m:\n\u001B[0;32m--> 361\u001B[0m     dataset \u001B[38;5;241m=\u001B[39m \u001B[43mDatasetReader\u001B[49m\u001B[43m(\u001B[49m\u001B[43mpath\u001B[49m\u001B[43m,\u001B[49m\u001B[43m \u001B[49m\u001B[43mdriver\u001B[49m\u001B[38;5;241;43m=\u001B[39;49m\u001B[43mdriver\u001B[49m\u001B[43m,\u001B[49m\u001B[43m \u001B[49m\u001B[43msharing\u001B[49m\u001B[38;5;241;43m=\u001B[39;49m\u001B[43msharing\u001B[49m\u001B[43m,\u001B[49m\u001B[43m \u001B[49m\u001B[38;5;241;43m*\u001B[39;49m\u001B[38;5;241;43m*\u001B[39;49m\u001B[43mkwargs\u001B[49m\u001B[43m)\u001B[49m\n\u001B[1;32m    362\u001B[0m \u001B[38;5;28;01melif\u001B[39;00m mode \u001B[38;5;241m==\u001B[39m \u001B[38;5;124m\"\u001B[39m\u001B[38;5;124mr+\u001B[39m\u001B[38;5;124m\"\u001B[39m:\n\u001B[1;32m    363\u001B[0m     dataset \u001B[38;5;241m=\u001B[39m get_writer_for_path(path, driver\u001B[38;5;241m=\u001B[39mdriver)(\n\u001B[1;32m    364\u001B[0m         path, mode, driver\u001B[38;5;241m=\u001B[39mdriver, sharing\u001B[38;5;241m=\u001B[39msharing, \u001B[38;5;241m*\u001B[39m\u001B[38;5;241m*\u001B[39mkwargs\n\u001B[1;32m    365\u001B[0m     )\n",
      "File \u001B[0;32mrasterio/_base.pyx:312\u001B[0m, in \u001B[0;36mrasterio._base.DatasetBase.__init__\u001B[0;34m()\u001B[0m\n",
      "\u001B[0;31mRasterioIOError\u001B[0m: 'data/reduced_b04.tiff' not recognized as a supported file format."
     ]
    }
   ],
   "source": [
    "import rasterio\n",
    "from rasterio.plot import show\n",
    "tiff = rasterio.open(exported_path)\n",
    "\n",
    "\n"
   ],
   "metadata": {
    "collapsed": false,
    "ExecuteTime": {
     "end_time": "2024-07-01T21:39:25.080148Z",
     "start_time": "2024-07-01T21:39:25.003692Z"
    }
   },
   "id": "1bed882b023a529d",
   "execution_count": 25
  },
  {
   "cell_type": "code",
   "outputs": [],
   "source": [],
   "metadata": {
    "collapsed": false
   },
   "id": "661c92caf8afabc3"
  }
 ],
 "metadata": {
  "kernelspec": {
   "display_name": "Python 3",
   "language": "python",
   "name": "python3"
  },
  "language_info": {
   "codemirror_mode": {
    "name": "ipython",
    "version": 2
   },
   "file_extension": ".py",
   "mimetype": "text/x-python",
   "name": "python",
   "nbconvert_exporter": "python",
   "pygments_lexer": "ipython2",
   "version": "2.7.6"
  }
 },
 "nbformat": 4,
 "nbformat_minor": 5
}
