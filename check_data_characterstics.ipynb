{
 "cells": [
  {
   "cell_type": "markdown",
   "source": [
    "# check data characteristics"
   ],
   "metadata": {
    "collapsed": false
   },
   "id": "1f7a4c76c783d60d"
  },
  {
   "cell_type": "code",
   "outputs": [],
   "source": [
    "import numpy as np"
   ],
   "metadata": {
    "collapsed": false,
    "ExecuteTime": {
     "end_time": "2024-07-05T09:47:15.583970Z",
     "start_time": "2024-07-05T09:47:15.533822Z"
    }
   },
   "id": "397a7dbb2797c5",
   "execution_count": 2
  },
  {
   "cell_type": "code",
   "outputs": [
    {
     "data": {
      "text/plain": "np.float64(0.20788127778175391)"
     },
     "execution_count": 3,
     "metadata": {},
     "output_type": "execute_result"
    }
   ],
   "source": [
    "test_images = np.load('data/tensors/test_set_Berlin_sentinel.npy')\n",
    "test_labels = np.load('data/tensors/test_set_Berlin_building.npy')\n",
    "assert test_images.shape[:2] == test_labels.shape[:2]\n",
    "share_of_buildings_test = np.sum(test_labels) / test_labels.size\n",
    "share_of_buildings_test"
   ],
   "metadata": {
    "collapsed": false,
    "ExecuteTime": {
     "end_time": "2024-07-05T09:47:15.971737Z",
     "start_time": "2024-07-05T09:47:15.908513Z"
    }
   },
   "id": "b4faef75ae759ced",
   "execution_count": 3
  },
  {
   "cell_type": "code",
   "outputs": [
    {
     "data": {
      "text/plain": "np.float64(0.04427680121527778)"
     },
     "execution_count": 8,
     "metadata": {},
     "output_type": "execute_result"
    }
   ],
   "source": [
    "nr_samples = 100\n",
    "labels = np.load(\"data/tensors/building_segmentation_labels_dataset{}.npy\".format(nr_samples))\n",
    "images = np.load(\"data/tensors/building_segmentation_images_dataset{}.npy\".format(nr_samples))\n",
    "share_of_buildings = np.sum(labels) / labels.size\n",
    "del labels, images\n",
    "share_of_buildings"
   ],
   "metadata": {
    "collapsed": false,
    "ExecuteTime": {
     "end_time": "2024-07-05T09:49:48.734941Z",
     "start_time": "2024-07-05T09:49:48.361623Z"
    }
   },
   "id": "1e508326962745e",
   "execution_count": 8
  },
  {
   "cell_type": "code",
   "outputs": [
    {
     "data": {
      "text/plain": "np.float64(0.04506076388888889)"
     },
     "execution_count": 6,
     "metadata": {},
     "output_type": "execute_result"
    }
   ],
   "source": [
    "nr_samples = 500\n",
    "labels = np.load(\"data/tensors/building_segmentation_labels_dataset{}.npy\".format(nr_samples))\n",
    "images = np.load(\"data/tensors/building_segmentation_images_dataset{}.npy\".format(nr_samples))\n",
    "share_of_buildings = np.sum(labels) / labels.size\n",
    "del labels, images\n",
    "share_of_buildings"
   ],
   "metadata": {
    "collapsed": false,
    "ExecuteTime": {
     "end_time": "2024-07-05T09:48:14.895489Z",
     "start_time": "2024-07-05T09:48:12.922909Z"
    }
   },
   "id": "f7fc33e25f5160f5",
   "execution_count": 6
  },
  {
   "cell_type": "code",
   "outputs": [
    {
     "data": {
      "text/plain": "np.float64(0.044717393663194445)"
     },
     "execution_count": 7,
     "metadata": {},
     "output_type": "execute_result"
    }
   ],
   "source": [
    "nr_samples = 1500\n",
    "labels = np.load(\"data/tensors/building_segmentation_labels_dataset{}.npy\".format(nr_samples))\n",
    "images = np.load(\"data/tensors/building_segmentation_images_dataset{}.npy\".format(nr_samples))\n",
    "share_of_buildings = np.sum(labels) / labels.size\n",
    "del labels, images\n",
    "share_of_buildings"
   ],
   "metadata": {
    "collapsed": false,
    "ExecuteTime": {
     "end_time": "2024-07-05T09:49:44.170973Z",
     "start_time": "2024-07-05T09:49:37.440804Z"
    }
   },
   "id": "5a57d68f18c2d99b",
   "execution_count": 7
  },
  {
   "cell_type": "code",
   "outputs": [],
   "source": [],
   "metadata": {
    "collapsed": false
   },
   "id": "8b700fb6ca7a1d98"
  }
 ],
 "metadata": {
  "kernelspec": {
   "display_name": "Python 3",
   "language": "python",
   "name": "python3"
  },
  "language_info": {
   "codemirror_mode": {
    "name": "ipython",
    "version": 2
   },
   "file_extension": ".py",
   "mimetype": "text/x-python",
   "name": "python",
   "nbconvert_exporter": "python",
   "pygments_lexer": "ipython2",
   "version": "2.7.6"
  }
 },
 "nbformat": 4,
 "nbformat_minor": 5
}
