{
 "cells": [
  {
   "cell_type": "markdown",
   "source": [
    "# check data characteristics"
   ],
   "metadata": {
    "collapsed": false
   },
   "id": "1f7a4c76c783d60d"
  },
  {
   "cell_type": "code",
   "outputs": [],
   "source": [
    "import numpy as np"
   ],
   "metadata": {
    "collapsed": false,
    "ExecuteTime": {
     "end_time": "2024-07-06T08:47:17.361958Z",
     "start_time": "2024-07-06T08:47:17.279769Z"
    }
   },
   "id": "397a7dbb2797c5",
   "execution_count": 2
  },
  {
   "cell_type": "code",
   "outputs": [
    {
     "data": {
      "text/plain": "np.float64(0.20788127778175391)"
     },
     "execution_count": 3,
     "metadata": {},
     "output_type": "execute_result"
    }
   ],
   "source": [
    "test_images = np.load('data/tensors/test_set_Berlin_sentinel.npy')\n",
    "test_labels = np.load('data/tensors/test_set_Berlin_building.npy')\n",
    "assert test_images.shape[:2] == test_labels.shape[:2]\n",
    "share_of_buildings_test = np.sum(test_labels) / test_labels.size\n",
    "share_of_buildings_test"
   ],
   "metadata": {
    "collapsed": false,
    "ExecuteTime": {
     "end_time": "2024-07-05T09:47:15.971737Z",
     "start_time": "2024-07-05T09:47:15.908513Z"
    }
   },
   "id": "b4faef75ae759ced",
   "execution_count": 3
  },
  {
   "cell_type": "code",
   "outputs": [
    {
     "ename": "FileNotFoundError",
     "evalue": "[Errno 2] No such file or directory: 'data/tensors/building_segmentation_labels_dataset100_2.npy'",
     "output_type": "error",
     "traceback": [
      "\u001B[0;31m---------------------------------------------------------------------------\u001B[0m",
      "\u001B[0;31mFileNotFoundError\u001B[0m                         Traceback (most recent call last)",
      "Cell \u001B[0;32mIn[3], line 2\u001B[0m\n\u001B[1;32m      1\u001B[0m nr_samples \u001B[38;5;241m=\u001B[39m \u001B[38;5;241m100\u001B[39m\n\u001B[0;32m----> 2\u001B[0m labels \u001B[38;5;241m=\u001B[39m \u001B[43mnp\u001B[49m\u001B[38;5;241;43m.\u001B[39;49m\u001B[43mload\u001B[49m\u001B[43m(\u001B[49m\u001B[38;5;124;43m\"\u001B[39;49m\u001B[38;5;124;43mdata/tensors/building_segmentation_labels_dataset\u001B[39;49m\u001B[38;5;132;43;01m{}\u001B[39;49;00m\u001B[38;5;124;43m_2.npy\u001B[39;49m\u001B[38;5;124;43m\"\u001B[39;49m\u001B[38;5;241;43m.\u001B[39;49m\u001B[43mformat\u001B[49m\u001B[43m(\u001B[49m\u001B[43mnr_samples\u001B[49m\u001B[43m)\u001B[49m\u001B[43m)\u001B[49m\n\u001B[1;32m      3\u001B[0m images \u001B[38;5;241m=\u001B[39m np\u001B[38;5;241m.\u001B[39mload(\u001B[38;5;124m\"\u001B[39m\u001B[38;5;124mdata/tensors/building_segmentation_images_dataset\u001B[39m\u001B[38;5;132;01m{}\u001B[39;00m\u001B[38;5;124m_2.npy\u001B[39m\u001B[38;5;124m\"\u001B[39m\u001B[38;5;241m.\u001B[39mformat(nr_samples))\n\u001B[1;32m      4\u001B[0m share_of_buildings \u001B[38;5;241m=\u001B[39m np\u001B[38;5;241m.\u001B[39msum(labels) \u001B[38;5;241m/\u001B[39m labels\u001B[38;5;241m.\u001B[39msize\n",
      "File \u001B[0;32m~/PycharmProjects/Sentinel_Building_Segmentation/.venv/lib/python3.9/site-packages/numpy/lib/_npyio_impl.py:455\u001B[0m, in \u001B[0;36mload\u001B[0;34m(file, mmap_mode, allow_pickle, fix_imports, encoding, max_header_size)\u001B[0m\n\u001B[1;32m    453\u001B[0m     own_fid \u001B[38;5;241m=\u001B[39m \u001B[38;5;28;01mFalse\u001B[39;00m\n\u001B[1;32m    454\u001B[0m \u001B[38;5;28;01melse\u001B[39;00m:\n\u001B[0;32m--> 455\u001B[0m     fid \u001B[38;5;241m=\u001B[39m stack\u001B[38;5;241m.\u001B[39menter_context(\u001B[38;5;28;43mopen\u001B[39;49m\u001B[43m(\u001B[49m\u001B[43mos\u001B[49m\u001B[38;5;241;43m.\u001B[39;49m\u001B[43mfspath\u001B[49m\u001B[43m(\u001B[49m\u001B[43mfile\u001B[49m\u001B[43m)\u001B[49m\u001B[43m,\u001B[49m\u001B[43m \u001B[49m\u001B[38;5;124;43m\"\u001B[39;49m\u001B[38;5;124;43mrb\u001B[39;49m\u001B[38;5;124;43m\"\u001B[39;49m\u001B[43m)\u001B[49m)\n\u001B[1;32m    456\u001B[0m     own_fid \u001B[38;5;241m=\u001B[39m \u001B[38;5;28;01mTrue\u001B[39;00m\n\u001B[1;32m    458\u001B[0m \u001B[38;5;66;03m# Code to distinguish from NumPy binary files and pickles.\u001B[39;00m\n",
      "\u001B[0;31mFileNotFoundError\u001B[0m: [Errno 2] No such file or directory: 'data/tensors/building_segmentation_labels_dataset100_2.npy'"
     ]
    }
   ],
   "source": [
    "nr_samples = 100\n",
    "labels = np.load(\"data/tensors/building_segmentation_labels_dataset{}.npy\".format(nr_samples))\n",
    "images = np.load(\"data/tensors/building_segmentation_images_dataset{}.npy\".format(nr_samples))\n",
    "share_of_buildings = np.sum(labels) / labels.size\n",
    "del labels, images\n",
    "share_of_buildings"
   ],
   "metadata": {
    "collapsed": false,
    "ExecuteTime": {
     "end_time": "2024-07-06T08:47:20.832325Z",
     "start_time": "2024-07-06T08:47:20.746324Z"
    }
   },
   "id": "1e508326962745e",
   "execution_count": 3
  },
  {
   "cell_type": "code",
   "outputs": [
    {
     "data": {
      "text/plain": "np.float64(0.04506076388888889)"
     },
     "execution_count": 6,
     "metadata": {},
     "output_type": "execute_result"
    }
   ],
   "source": [
    "nr_samples = 500\n",
    "labels = np.load(\"data/tensors/building_segmentation_labels_dataset{}.npy\".format(nr_samples))\n",
    "images = np.load(\"data/tensors/building_segmentation_images_dataset{}.npy\".format(nr_samples))\n",
    "share_of_buildings = np.sum(labels) / labels.size\n",
    "del labels, images\n",
    "share_of_buildings"
   ],
   "metadata": {
    "collapsed": false,
    "ExecuteTime": {
     "end_time": "2024-07-05T09:48:14.895489Z",
     "start_time": "2024-07-05T09:48:12.922909Z"
    }
   },
   "id": "f7fc33e25f5160f5",
   "execution_count": 6
  },
  {
   "cell_type": "code",
   "outputs": [
    {
     "data": {
      "text/plain": "np.float64(0.044717393663194445)"
     },
     "execution_count": 7,
     "metadata": {},
     "output_type": "execute_result"
    }
   ],
   "source": [
    "nr_samples = 1500\n",
    "labels = np.load(\"data/tensors/building_segmentation_labels_dataset{}.npy\".format(nr_samples))\n",
    "images = np.load(\"data/tensors/building_segmentation_images_dataset{}.npy\".format(nr_samples))\n",
    "share_of_buildings = np.sum(labels) / labels.size\n",
    "del labels, images\n",
    "share_of_buildings"
   ],
   "metadata": {
    "collapsed": false,
    "ExecuteTime": {
     "end_time": "2024-07-05T09:49:44.170973Z",
     "start_time": "2024-07-05T09:49:37.440804Z"
    }
   },
   "id": "5a57d68f18c2d99b",
   "execution_count": 7
  },
  {
   "cell_type": "code",
   "outputs": [],
   "source": [],
   "metadata": {
    "collapsed": false
   },
   "id": "8b700fb6ca7a1d98"
  }
 ],
 "metadata": {
  "kernelspec": {
   "display_name": "Python 3",
   "language": "python",
   "name": "python3"
  },
  "language_info": {
   "codemirror_mode": {
    "name": "ipython",
    "version": 2
   },
   "file_extension": ".py",
   "mimetype": "text/x-python",
   "name": "python",
   "nbconvert_exporter": "python",
   "pygments_lexer": "ipython2",
   "version": "2.7.6"
  }
 },
 "nbformat": 4,
 "nbformat_minor": 5
}
