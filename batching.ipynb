{
 "cells": [
  {
   "cell_type": "markdown",
   "source": [
    "# hand label cloudy batches"
   ],
   "metadata": {
    "collapsed": false
   },
   "id": "d25e9c635d3e0ce7"
  },
  {
   "cell_type": "code",
   "outputs": [],
   "source": [
    "cities = 'Dresden', 'Berlin', 'Leipzig', 'Hamburg', 'Hannover', 'Muenchen', 'Paris', 'London', 'Copenhagen', 'Erfurt'\n",
    "path = \"/Users/eliasstrauss/PycharmProjects/Sentinel_Building_Segmentation/\""
   ],
   "metadata": {
    "collapsed": true,
    "ExecuteTime": {
     "end_time": "2024-07-04T21:21:58.559015Z",
     "start_time": "2024-07-04T21:21:58.551301Z"
    }
   },
   "id": "initial_id",
   "execution_count": 1
  },
  {
   "cell_type": "code",
   "outputs": [],
   "source": [
    "import numpy as np\n",
    "import matplotlib.pyplot as plt"
   ],
   "metadata": {
    "collapsed": false,
    "ExecuteTime": {
     "end_time": "2024-07-04T21:26:33.897666Z",
     "start_time": "2024-07-04T21:26:33.530849Z"
    }
   },
   "id": "1bf86393531cf711",
   "execution_count": 16
  },
  {
   "cell_type": "code",
   "outputs": [],
   "source": [
    "for city in cities:\n",
    "    img = np.load(path + \"data/tensors/{}_sentinel.npy\".format(city))\n",
    "    fig, ax = plt.subplots(figsize=(10,10))\n",
    "    ax.imshow(img[:, :, :3])"
   ],
   "metadata": {
    "collapsed": false
   },
   "id": "5f4fd07a2cf69192",
   "execution_count": null
  },
  {
   "cell_type": "code",
   "outputs": [],
   "source": [
    "#cut out broken part of paris\n",
    "city = 'Paris'\n",
    "img = np.load(path + \"data/tensors/{}_sentinel.npy\".format(city))\n",
    "img = img[:,:3800,:]\n",
    "np.save(path + \"data/tensors/{}_sentinel.npy\".format(city), img)\n",
    "\n",
    "bld = np.load(path + \"data/tensors/{}_building.npy\".format(city))\n",
    "bld = bld[:,:3800]\n",
    "np.save(path + \"data/tensors/{}_building.npy\".format(city), bld)"
   ],
   "metadata": {
    "collapsed": false
   },
   "id": "cbe88ea1f49830ea"
  },
  {
   "cell_type": "code",
   "outputs": [],
   "source": [
    "def extract_patches_img(tensor, patch_size=(128, 128), stride=(64, 64)):\n",
    "    H, W, C = tensor.shape\n",
    "    patch_height, patch_width = patch_size\n",
    "    stride_y, stride_x = stride\n",
    "\n",
    "    # Calculate the shape and strides for the new view\n",
    "    new_shape = (\n",
    "        (H - patch_height) // stride_y + 1,\n",
    "        (W - patch_width) // stride_x + 1,\n",
    "        patch_height,\n",
    "        patch_width,\n",
    "        C\n",
    "    )\n",
    "    new_strides = (\n",
    "        tensor.strides[0] * stride_y,\n",
    "        tensor.strides[1] * stride_x,\n",
    "        tensor.strides[0],\n",
    "        tensor.strides[1],\n",
    "        tensor.strides[2]\n",
    "    )\n",
    "\n",
    "    patches = np.lib.stride_tricks.as_strided(tensor, shape=new_shape, strides=new_strides)\n",
    "    return patches"
   ],
   "metadata": {
    "collapsed": false,
    "ExecuteTime": {
     "end_time": "2024-07-04T12:45:51.806716Z",
     "start_time": "2024-07-04T12:45:51.780125Z"
    }
   },
   "id": "532be27aa89ec732",
   "execution_count": 3
  },
  {
   "cell_type": "code",
   "outputs": [],
   "source": [
    "np.random.seed(42)\n",
    "for city in cities:\n",
    "    img = np.load(path + \"data/tensors/{}_sentinel.npy\".format(city))\n",
    "    img_patch = extract_patches_img(img)\n",
    "    img_patch = img_patch.reshape((-1, 128, 128, 4))\n",
    "    print(city, img_patch.shape)\n",
    "    \n",
    "    nr_samples = 100\n",
    "    random_sample_indices = np.random.randint(0, img_patch.shape[0], nr_samples)\n",
    "    samples = img_patch[random_sample_indices]\n",
    "    np.save(path + \"data/tensors/{}_cloud_samples.npy\".format(city), samples)\n",
    "    \n",
    "    rows = 10  # Number of rows (you can adjust this based on your preference)\n",
    "    cols = nr_samples // rows  # Calculate columns based on rows\n",
    "    fig, axs = plt.subplots(rows, cols, figsize=(cols*2, rows*2))\n",
    "    axs = axs.ravel()\n",
    "    \n",
    "    # Loop over each image and plot it\n",
    "    for i in range(nr_samples):\n",
    "        axs[i].imshow(samples[i,:,:,:3])\n",
    "        axs[i].axis('off')  # Turn off axis labels\n",
    "    \n",
    "    # Remove any remaining axes that are unused\n",
    "    for j in range(nr_samples, rows * cols):\n",
    "        axs[j].axis('off')\n",
    "    \n",
    "    fig.subplots_adjust(wspace=0, hspace=0)\n",
    "    fig.tight_layout()\n",
    "    fig.savefig(path + \"data/hand_label/{}.pdf\".format(city))\n",
    "    "
   ],
   "metadata": {
    "collapsed": false
   },
   "id": "a71b5c56cc259c78",
   "execution_count": null
  },
  {
   "cell_type": "code",
   "outputs": [],
   "source": [
    "with open(\"data/hand_label/labels.txt\", \"r\") as f:\n",
    "    lines = f.readlines()"
   ],
   "metadata": {
    "collapsed": false,
    "ExecuteTime": {
     "end_time": "2024-07-04T21:22:09.173532Z",
     "start_time": "2024-07-04T21:22:09.142673Z"
    }
   },
   "id": "c74452529b0431cb",
   "execution_count": 2
  },
  {
   "cell_type": "code",
   "outputs": [],
   "source": [
    "def extract_indices(rows):\n",
    "    indices = []\n",
    "    for i, row in enumerate(rows):\n",
    "        offset = i*10\n",
    "        index_strings = row.split(\" \")\n",
    "        for index_string in index_strings:\n",
    "            try:\n",
    "                index = int(index_string)\n",
    "                indices.append(offset + index)\n",
    "            except:\n",
    "                continue\n",
    "    return indices"
   ],
   "metadata": {
    "collapsed": false,
    "ExecuteTime": {
     "end_time": "2024-07-04T21:22:11.979598Z",
     "start_time": "2024-07-04T21:22:11.946197Z"
    }
   },
   "id": "4f7b909eb1915d48",
   "execution_count": 3
  },
  {
   "cell_type": "code",
   "outputs": [],
   "source": [
    "hand_labels = {lines[i*11][:-1] : extract_indices(lines[i*11 + 1 : (i+1)*11]) for i in range(10)}"
   ],
   "metadata": {
    "collapsed": false,
    "ExecuteTime": {
     "end_time": "2024-07-04T21:23:13.267884Z",
     "start_time": "2024-07-04T21:23:13.077773Z"
    }
   },
   "id": "54c2065ee9ceb996",
   "execution_count": 7
  },
  {
   "cell_type": "code",
   "outputs": [
    {
     "data": {
      "text/plain": "dict_keys(['Berlin', 'Copenhagen', 'Dresden', 'Erfurt', 'Hamburg', 'Hannover', 'Leipzig', 'London', 'Muenchen', 'Paris'])"
     },
     "execution_count": 8,
     "metadata": {},
     "output_type": "execute_result"
    }
   ],
   "source": [
    "hand_labels.keys()"
   ],
   "metadata": {
    "collapsed": false,
    "ExecuteTime": {
     "end_time": "2024-07-04T21:23:14.054323Z",
     "start_time": "2024-07-04T21:23:14.044955Z"
    }
   },
   "id": "c80f382e309d51e9",
   "execution_count": 8
  },
  {
   "cell_type": "code",
   "outputs": [
    {
     "data": {
      "text/plain": "[7, 11, 13, 20, 24, 25, 38, 46, 55, 66, 69, 76, 77, 84]"
     },
     "execution_count": 9,
     "metadata": {},
     "output_type": "execute_result"
    }
   ],
   "source": [
    "hand_labels[\"Berlin\"]\n",
    "            "
   ],
   "metadata": {
    "collapsed": false,
    "ExecuteTime": {
     "end_time": "2024-07-04T21:24:06.119240Z",
     "start_time": "2024-07-04T21:24:05.931962Z"
    }
   },
   "id": "e24f7078ce1e4e70",
   "execution_count": 9
  },
  {
   "cell_type": "code",
   "outputs": [],
   "source": [
    "nr_samples = 100\n",
    "cloud_samples = None\n",
    "cloud_labels = None\n",
    "for city in cities:\n",
    "    samples = np.load(\"data/tensors/{}_cloud_samples.npy\".format(city))\n",
    "    labels = np.zeros(nr_samples)\n",
    "    labels[hand_labels[city]] = 1\n",
    "    if cloud_samples is None:\n",
    "        cloud_samples = samples\n",
    "        cloud_labels = labels\n",
    "    else:\n",
    "        cloud_samples = np.concatenate((cloud_samples, samples))\n",
    "        cloud_labels = np.concatenate((cloud_labels, labels))\n",
    "    "
   ],
   "metadata": {
    "collapsed": false,
    "ExecuteTime": {
     "end_time": "2024-07-04T21:35:22.767349Z",
     "start_time": "2024-07-04T21:35:22.325338Z"
    }
   },
   "id": "aab377c3b2e54631",
   "execution_count": 28
  },
  {
   "cell_type": "code",
   "outputs": [],
   "source": [
    "np.save(\"data/tensors/cloud_samples.npy\", cloud_samples)\n",
    "np.save(\"data/tensors/cloud_labels.npy\", cloud_labels)"
   ],
   "metadata": {
    "collapsed": false,
    "ExecuteTime": {
     "end_time": "2024-07-04T21:36:41.897474Z",
     "start_time": "2024-07-04T21:36:41.565305Z"
    }
   },
   "id": "74dce458768b8081",
   "execution_count": 30
  }
 ],
 "metadata": {
  "kernelspec": {
   "display_name": "Python 3",
   "language": "python",
   "name": "python3"
  },
  "language_info": {
   "codemirror_mode": {
    "name": "ipython",
    "version": 2
   },
   "file_extension": ".py",
   "mimetype": "text/x-python",
   "name": "python",
   "nbconvert_exporter": "python",
   "pygments_lexer": "ipython2",
   "version": "2.7.6"
  }
 },
 "nbformat": 4,
 "nbformat_minor": 5
}
